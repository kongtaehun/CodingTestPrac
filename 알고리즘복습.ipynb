{
 "cells": [
  {
   "cell_type": "markdown",
   "metadata": {},
   "source": [
    "# BFS/DFS\n",
    "- 노드의 개수와 연결된 링크가 주어질 때 완전탐색\n",
    "- board가 주어지고 상하좌우로 움직일 수 있을 때 완전탐색\n",
    "\n",
    "\n",
    "**주어지는정보**\n",
    "+ start - 탐색시작하는노드\n",
    "+ graph - i번째노드에 연결된 노드들 -> [[],[1],[2,3]]"
   ]
  },
  {
   "cell_type": "code",
   "execution_count": null,
   "metadata": {},
   "outputs": [],
   "source": [
    "# dfs(그래프)\n",
    "def dfs_graph(graph,visited,start):\n",
    "    visited[start] = 1\n",
    "    for i in graph[start]:\n",
    "        if dfs_graph[i] == 0:\n",
    "            dfs(graph,visited,i)\n",
    "# dfs(board)\n",
    "dx = [-1,1,0,0]\n",
    "dy = [0,0,1,-1]\n",
    "def dfs_board(board,visited,x,y):\n",
    "    visited[x][y] = 1\n",
    "    for i in range(4):\n",
    "        nx = x+dx[i]\n",
    "        ny = y+dy[i]\n",
    "        if visited[nx][ny] == 0 and board[nx][ny] == 1:\n",
    "            dfs_board(board,visited,x,y)\n",
    "\n",
    "#bfs(그래프)\n",
    "from collections import deque\n",
    "def bfs_graph(graph,visited, start):\n",
    "    q = deque()\n",
    "    q.append(start)\n",
    "    visited[start] = 1\n",
    "    while q:\n",
    "        now = q.popleft()\n",
    "        for i in graph[now]:\n",
    "            if visited[i] == 0:\n",
    "                visited[i] = 1\n",
    "                q.append(i)\n",
    "\n",
    "#bfs(board)\n",
    "def bfs_board(board,visited,x,y):\n",
    "    q = deque()\n",
    "    q.append((x,y))\n",
    "    visited[x][y] = 1\n",
    "    while q:\n",
    "        x,y = q.popleft()\n",
    "        for i in range(4):\n",
    "            nx = x+dx[i]\n",
    "            ny = y+dy[i]\n",
    "            if visited[nx][ny] == 0 and board[nx][ny] == 1:\n",
    "                visited[nx][ny] = 1\n",
    "                q.append((nx,ny))\n"
   ]
  },
  {
   "cell_type": "markdown",
   "metadata": {},
   "source": [
    "# 이분탐색\n",
    "- 배열안에 특정값이 있는지 없는지 검사하라\n",
    "- 최대값, 최소값, 최적값을 찾아라(조건을 만족하는 값에 최소)\n",
    "\n",
    "**주어지는정보**\n",
    "+ arr - 배열\n",
    "+ target - 찾으려는값"
   ]
  },
  {
   "cell_type": "code",
   "execution_count": null,
   "metadata": {},
   "outputs": [],
   "source": [
    "#값 검색\n",
    "def binary_search(arr,target,start,end):\n",
    "    arr.sort() \n",
    "    while start<=end:\n",
    "        mid = (start+end)//2\n",
    "        if arr[mid] == target:\n",
    "            return True\n",
    "        elif arr[mid]<target:\n",
    "            start = mid+1\n",
    "        else:\n",
    "            end = mid -1\n",
    "    return False\n",
    "\n",
    "#최적값\n",
    "def binary_search_optimize(arr,target,start,end):\n",
    "    while start<=end:\n",
    "        mid = (start+end)//2\n",
    "        if arr[mid]<target:\n",
    "            start = end +1\n",
    "        else:\n",
    "            end = end -1\n"
   ]
  },
  {
   "cell_type": "markdown",
   "metadata": {},
   "source": [
    "# 백트래킹\n",
    "- 순서에 상관없이 방문한다\n",
    "- 오름차순으로 방문\n",
    "\n",
    "**주어지는정보**\n",
    "+ 길이가 5이면서 a,b,c,d,e인 부분집합의 개수\n",
    "+ arr - 집합"
   ]
  },
  {
   "cell_type": "code",
   "execution_count": null,
   "metadata": {},
   "outputs": [],
   "source": [
    "result = []\n",
    "cnt = 0\n",
    "\n",
    "#순서상관없이 방문\n",
    "def bt(depth):\n",
    "    global result,cnt\n",
    "    if depth == 5:\n",
    "        if result == ['a','b','c','d','e']:\n",
    "            cnt +=1\n",
    "    else:\n",
    "        for i in range(len(arr)):\n",
    "            if visited[i] == 0:\n",
    "                visited[i] = 1\n",
    "                result.append(arr[i])\n",
    "                bt(depth+1)\n",
    "                visited[i] = 0\n",
    "                result.pop()\n",
    "\n",
    "#오른차순방문\n",
    "def bt(depth,start):\n",
    "    global result,cnt\n",
    "    if depth = 5:\n",
    "        if result == ['a','b','c','d','e']:\n",
    "            cnt+=1\n",
    "    else:\n",
    "        for i in range(start,len(arr)):\n",
    "            if visited[i] == 0:\n",
    "                visited[i] = 1\n",
    "                result.append(arr[i])\n",
    "                bt(depth+1)\n",
    "                visited[i] = 0\n",
    "                result.pop()"
   ]
  },
  {
   "cell_type": "markdown",
   "metadata": {},
   "source": [
    "# 투포인터\n",
    "- 배열중 특정조건을 만족하는 부분 배열을 구한다.\n",
    "\n",
    "**주어지는정보**\n",
    "+ 합이 3인 부분배열의 개수\n",
    "+ arr - 배열"
   ]
  },
  {
   "cell_type": "code",
   "execution_count": 6,
   "metadata": {},
   "outputs": [
    {
     "name": "stdout",
     "output_type": "stream",
     "text": [
      "[]\n",
      "[1]\n",
      "[1, 2]\n",
      "[1, 2, 3]\n",
      "[2, 3]\n",
      "[3]\n",
      "[3, 1]\n",
      "[1]\n",
      "[1, 2]\n",
      "[1, 2, 1]\n",
      "[2, 1]\n",
      "[2, 1, 4]\n",
      "[1, 4]\n",
      "[4]\n",
      "[]\n",
      "[3]\n",
      "[3, 1]\n",
      "[1]\n",
      "[1, 1]\n",
      "[1, 1, 1]\n",
      "6\n"
     ]
    }
   ],
   "source": [
    "arr = [1,2,3,1,2,1,4,3,1,1,1]\n",
    "cnt = 0\n",
    "def two_pointer(arr,target):\n",
    "    global cnt\n",
    "    l = 0\n",
    "    r = 0\n",
    "    while l<=r and r<=len(arr):\n",
    "        temp = sum(arr[l:r])\n",
    "        print(arr[l:r])\n",
    "        if temp == target:\n",
    "            cnt+=1\n",
    "            r+=1\n",
    "        elif temp > target:\n",
    "            l+=1\n",
    "        else:\n",
    "            r+=1\n",
    "two_pointer(arr,3)\n",
    "print(cnt)\n"
   ]
  },
  {
   "cell_type": "markdown",
   "metadata": {},
   "source": [
    "# 위상정렬\n",
    "- 위계, 순서가 있는 그래프에서 순서에맞게 노드를 나열한다.\n",
    "\n",
    "**주어지는정보**\n",
    "+ graph - i번째노드에 연결된 노드들 -> [[],[1],[2,3]]"
   ]
  },
  {
   "cell_type": "code",
   "execution_count": null,
   "metadata": {},
   "outputs": [],
   "source": [
    "n = 5#노드의개수\n",
    "m = 5#연결의 개수\n",
    "graph = []\n",
    "indegree = [0]*(n+1)\n",
    "for i in range(m):\n",
    "    a,b = map(int,input().split())\n",
    "    graph[a].append(b)#a에서 b로 가는것\n",
    "    indegree[b] +=1\n",
    "\n",
    "from collections import deque\n",
    "q = deque()\n",
    "for i in range(1,n+1):\n",
    "    if indegree[i] == 0:\n",
    "        q.append(i)\n",
    "\n",
    "while q:\n",
    "    now = q.popleft()\n",
    "    for i in graph[now]:\n",
    "        indegree[i] -=1\n",
    "        if indegree[i] == 0:\n",
    "            q.append(i)"
   ]
  },
  {
   "cell_type": "markdown",
   "metadata": {},
   "source": [
    "# 최장증가수열\n",
    "\n",
    "**주어지는정보**\n",
    "+ arr - 숫자로 이루어진 수열"
   ]
  },
  {
   "cell_type": "code",
   "execution_count": null,
   "metadata": {},
   "outputs": [],
   "source": [
    "from bisect import bisect_left\n",
    "dp = [arr[0]]\n",
    "arr =  [6, 2, 5, 1, 7, 4, 8, 3]\n",
    "for i in arr[1:]:\n",
    "    idx = bisect_left(arr,i)\n",
    "    if idx>=len(dp):\n",
    "        dp.append(i)\n",
    "    else:\n",
    "        dp[idx] = i"
   ]
  },
  {
   "cell_type": "markdown",
   "metadata": {},
   "source": [
    "# 다익스트라알고리즘\n",
    "- 그래프에서 가장 빠르게 도착하는 경로탐색\n",
    "\n",
    "**주어지는정보**\n",
    "+ graph - i번째노드에 연결된 노드와 비용 -> graph[i] = [[연결노드1, 비용1], [연결노드2, 비용2],...]"
   ]
  },
  {
   "cell_type": "code",
   "execution_count": null,
   "metadata": {},
   "outputs": [],
   "source": [
    "import heapq\n",
    "#일단 입력방법이 특이\n",
    "n,m = map(int,input().split())# n은 노드개수, m은 연결개수\n",
    "for i in range(m):\n",
    "    a,b,cost = map(int,input().split())\n",
    "    graph[a].append((b,cost))\n",
    "\n",
    "def dijkstra(start):\n",
    "    q = []\n",
    "    heapq.heappush(q,(0,start))\n",
    "    distance[start] =0 \n",
    "    while q:\n",
    "        dist,now = heapq.heappop()\n",
    "        if dist > distance[now]:\n",
    "            continue\n",
    "        for i in graph[now]:\n",
    "            cost = dist+i[1]\n",
    "            if cost<distance[i[0]]:\n",
    "                heapq.heappush((cost,i[0]))\n",
    "                distance[i[0]] = cost"
   ]
  },
  {
   "cell_type": "markdown",
   "metadata": {},
   "source": [
    "# 크루스칼 알고리즘\n",
    "- 모든 노드를 연결하는 최소비용트리\n",
    "\n",
    "**주어지는정보**\n",
    "+ n,m -> n은 노드의 개수, m은 링크의 개수\n",
    "+ a,b,cost -> a와b가 연결되는 비용이 cost이다. n만큼 주어짐"
   ]
  },
  {
   "cell_type": "code",
   "execution_count": null,
   "metadata": {},
   "outputs": [],
   "source": [
    "def find_parant(parant,x):\n",
    "    if parant[x] != x:\n",
    "        parant[x] = find_parant(parant,parant[x])\n",
    "    return parant[x]\n",
    "def union_parant(parant,a,b):\n",
    "    a = find_parant(parant,a)\n",
    "    b = find_parant(parant,b)\n",
    "    if a<b:\n",
    "        parant[b] = a\n",
    "    else:\n",
    "        parant[a] = b\n",
    "\n",
    "n,m = map(int,input().split())\n",
    "#부모배열초기화\n",
    "parant = [i for i in range(n+1)]\n",
    "\n",
    "#연결정보 입력받기(특이입력)\n",
    "graph = []\n",
    "for i in range(m):\n",
    "    a,b,cost = map(int,input().split())\n",
    "    graph.append((cost,a,b))\n",
    "\n",
    "\n",
    "#비용순으로 정렬하기\n",
    "graph.sort()\n",
    "\n",
    "#크루스칼 적용\n",
    "for edge in graph:\n",
    "    cost,a,b = edge\n",
    "    if find_parant(parant,a) != find_parant(parant,b):\n",
    "        union_parant(parant,a,b)\n",
    "        result+=cost\n",
    "\n",
    "\n",
    "\n"
   ]
  }
 ],
 "metadata": {
  "interpreter": {
   "hash": "b0fa6594d8f4cbf19f97940f81e996739fb7646882a419484c72d19e05852a7e"
  },
  "kernelspec": {
   "display_name": "Python 3.9.12 64-bit",
   "language": "python",
   "name": "python3"
  },
  "language_info": {
   "codemirror_mode": {
    "name": "ipython",
    "version": 3
   },
   "file_extension": ".py",
   "mimetype": "text/x-python",
   "name": "python",
   "nbconvert_exporter": "python",
   "pygments_lexer": "ipython3",
   "version": "3.9.12"
  },
  "orig_nbformat": 4
 },
 "nbformat": 4,
 "nbformat_minor": 2
}

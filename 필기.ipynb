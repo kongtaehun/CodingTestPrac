{
 "cells": [
  {
   "cell_type": "markdown",
   "metadata": {},
   "source": [
    "# 슬라이딩윈도우알고리즘\n",
    "### 1522 - 문자열교환\n",
    "### 20437 - 문자열게임2\n",
    "- 슬라이딩윈도우(특정 크기의 윈도우를 만들어 그 크기만큼 검사한다.)\n",
    "- 해당 문제에서는 a,b가 연속되기위해 ₩교환해야하는 횟수에 적용\n",
    "- a의 총개수만큼의 윈도우를 만들어 그 안에 b의 개수가 교환해야하는 개수임\n",
    "- for문으로 순회하며 b의 개수가 가장 적은 값이 정답"
   ]
  },
  {
   "cell_type": "code",
   "execution_count": null,
   "metadata": {},
   "outputs": [],
   "source": [
    "\n",
    "a = list(input())\n",
    "# 1. a,b를 1과0으로\n",
    "a_count = 0\n",
    "for i in range(len(a)):\n",
    "    if a[i] == 'a':\n",
    "        a_count += 1\n",
    "# a의 크기 size만큼의 윈도우 안에 b의 개수가 최소가 되는 값\n",
    "result = int(1e9)\n",
    "for i in range(len(a)):\n",
    "    # 윈도우 내의 b의 개수 확인\n",
    "    b_count = 0\n",
    "    for i in a[0:a_count]:\n",
    "        if i == 'b':\n",
    "            b_count += 1\n",
    "    result = min(result, b_count)\n",
    "\n",
    "    # 리스트 회전\n",
    "    a.append(a.pop(0))\n",
    "\n",
    "print(result)\n"
   ]
  },
  {
   "cell_type": "markdown",
   "metadata": {},
   "source": [
    "# 우선순위 큐로 N번째수구하기\n",
    "\n",
    "### 2075-N번째 큰수\n",
    "- 배열에서 가장 큰값이나 작은값이 아닌 n번째로 큰(작은)값을 검색할 떄 \n",
    "- 우선순위 큐의 크기를 유지하면서 해결한다."
   ]
  },
  {
   "cell_type": "code",
   "execution_count": null,
   "metadata": {},
   "outputs": [],
   "source": [
    "#길이를 유지하면서 큐유지\n",
    "\n",
    "import heapq\n",
    "\n",
    "q = []\n",
    "n = int(input())\n",
    "arr = list(map(int, input().split()))\n",
    "for i in range(n):\n",
    "    heapq.heappush(q, arr[i])\n",
    "\n",
    "for i in range(n-1):\n",
    "    temp = list(map(int, input().split()))\n",
    "    for i in range(n):\n",
    "        #크기를 유지\n",
    "        if temp[i] > q[0]:\n",
    "            heapq.heappop(q)\n",
    "            heapq.heappush(q, temp[i])\n",
    "\n",
    "print(heapq.heappop(q))\n"
   ]
  },
  {
   "cell_type": "markdown",
   "metadata": {},
   "source": [
    "# 특정조건을 만족하는 부분수열 구하기(투포인터)\n",
    "### 20922 - 겹치는건 싫어싫어\n",
    "- 앞에서부터 두개의 포인터가 끝까지 검사하면서 최댓값 저장\n",
    "- l,r을 0부터 시작해야함\n"
   ]
  },
  {
   "cell_type": "code",
   "execution_count": null,
   "metadata": {},
   "outputs": [],
   "source": [
    "# 특정조건을 만족하는 부분수열 구하기\n",
    "# 앞에서부터 두개의 투포인터가 끝까지 검사하면서 최댓값을 저장\n",
    "import sys\n",
    "\n",
    "\n",
    "def two_pointer(arr):\n",
    "    global answer\n",
    "    l = 0\n",
    "    r = 0\n",
    "    while r < n:\n",
    "        print(arr[l:r+1])\n",
    "        if dp[arr[r]] < k:\n",
    "            #유의 \n",
    "            dp[arr[r]] += 1\n",
    "            r += 1\n",
    "        else:\n",
    "            dp[arr[l]] -= 1\n",
    "            l += 1\n",
    "        answer = max(answer, r-l)\n",
    "    return answer\n",
    "\n",
    "\n",
    "if __name__ == \"__main__\":\n",
    "    input = sys.stdin.readline\n",
    "    n, k = map(int, input().split())\n",
    "    arr = list(map(int, input().split()))\n",
    "    dp = [0]*(100001)\n",
    "    answer = 0\n",
    "    if len(arr) == 1:\n",
    "        print(1)\n",
    "    else:\n",
    "        print(two_pointer(arr))\n"
   ]
  },
  {
   "cell_type": "markdown",
   "metadata": {},
   "source": [
    "## 투포인터의 일반적인 함수형태!"
   ]
  },
  {
   "cell_type": "code",
   "execution_count": null,
   "metadata": {},
   "outputs": [],
   "source": [
    "def tp():\n",
    "    global result\n",
    "    l = 0\n",
    "    r = 0\n",
    "    while l <= r and r <= n:\n",
    "        total = sum(nums[l:r])\n",
    "        if total == m:\n",
    "            result += 1\n",
    "            r += 1\n",
    "        elif total < m:\n",
    "            r += 1\n",
    "        else:\n",
    "            l += 1\n",
    "\n",
    "\n",
    "if __name__ == '__main__':\n",
    "    n, m = map(int, input().split())\n",
    "    nums = list(map(int, input().split()))\n",
    "    # 투포인터\n",
    "    result = 0\n",
    "    tp()\n",
    "    print(result)\n"
   ]
  },
  {
   "cell_type": "markdown",
   "metadata": {},
   "source": [
    "# 증가하다가 감소하는 부분찾기(반복문 뒤에서 접근)\n",
    "### 11501 - 주식\n",
    "\n",
    "- 앞에서 부터 순회하면 증가하다가 감소하는 부분을 찾아야함\n",
    "- 뒤에서부터 순회하면 단순히 max값보다 작아지는 부분이 변곡점이라할 수 있음\n",
    "- 반대로 감소하다가 증가하는 부분은 앞에서가 찾기쉬움"
   ]
  },
  {
   "cell_type": "code",
   "execution_count": null,
   "metadata": {},
   "outputs": [],
   "source": [
    "from collections import deque\n",
    "import sys\n",
    "input = sys.stdin.readline\n",
    "\n",
    "\n",
    "for i in range(int(input())):\n",
    "    total = 0\n",
    "    n = int(input())\n",
    "    nums = deque(list(map(int, input().split())))\n",
    "    # 뒤에서 부터 검사하는 것이 힌트다.\n",
    "    mx = nums[-1]\n",
    "    for j in range(n-2, -1, -1):\n",
    "        if nums[j] > mx:\n",
    "            mx = nums[j]\n",
    "        else:\n",
    "            total += mx - nums[j]\n",
    "    print(total)\n"
   ]
  },
  {
   "cell_type": "markdown",
   "metadata": {},
   "source": [
    "# 스택을 이용해서 증가하는 수열 찾기\n",
    "### 22866 탑보기\n",
    "\n",
    "- 스택에 저장하면서 스택[-1]이 현재보다 작으면 삭제한다(그 뒤에 요소에서도 추가되지 않기 때문)"
   ]
  },
  {
   "cell_type": "code",
   "execution_count": null,
   "metadata": {},
   "outputs": [],
   "source": [
    "import sys\n",
    "input = sys.stdin.readline\n",
    "\n",
    "\n",
    "def searchBuilding(start, end, step):\n",
    "    global cnt\n",
    "    stk = []\n",
    "    for i in range(start, end, step):\n",
    "        while len(stk) > 0 and nums[stk[-1]] <= nums[i]:\n",
    "            stk.pop()\n",
    "        if len(stk) > 0 and (result_val[i] == 0 or abs(stk[-1] - i) < abs(result_val[i]-i)):\n",
    "            result_val[i] = stk[-1]\n",
    "        cnt[i] += len(stk)\n",
    "        stk.append(i)\n",
    "\n",
    "\n",
    "if __name__ == '__main__':\n",
    "    n = int(input())\n",
    "    nums = [0]+list(map(int, input().split()))\n",
    "    cnt = [0]*(n+1)\n",
    "    result_val = [0]*(n+1)\n",
    "    searchBuilding(1, n+1, 1)\n",
    "    searchBuilding(n, 0, -1)\n",
    "    for i in range(1, n+1):\n",
    "        if cnt[i] == 0:\n",
    "            print(0)\n",
    "        else:\n",
    "            print(cnt[i], result_val[i])\n"
   ]
  },
  {
   "cell_type": "markdown",
   "metadata": {},
   "source": [
    "# 최장증가수열구하기\n",
    "### 2631 줄세우기\n",
    "\n",
    "- 배열하나 선언한다음에\n",
    "- bisect로 찾음\n",
    "- 찾은 인덱스가 선언한 배열보다 클경우 → append\n",
    "- 찾은인덱스가 선언한 배열보다 작을경우 → 원소교체"
   ]
  },
  {
   "cell_type": "code",
   "execution_count": null,
   "metadata": {},
   "outputs": [],
   "source": [
    "from bisect import bisect_right\n",
    "\n",
    "\n",
    "def longest_ascending_binary(arr):\n",
    "    lis = []\n",
    "    lis.append(arr[0])\n",
    "    for i in range(1, n):\n",
    "        idx = bisect_right(lis, arr[i])\n",
    "        if idx > len(lis)-1:\n",
    "            lis.append(arr[i])\n",
    "        else:\n",
    "            lis[idx] = arr[i]\n",
    "    return len(lis)\n",
    "\n",
    "\n",
    "def longest_ascending_for(arr):\n",
    "    length = [0]*n\n",
    "    for k in range(n):\n",
    "        length[k] = 1\n",
    "        for i in range(k):\n",
    "            if arr[i] < arr[k]:\n",
    "                length[k] = max(length[k], length[i]+1)\n",
    "\n",
    "    return max(length)\n"
   ]
  },
  {
   "cell_type": "markdown",
   "metadata": {},
   "source": [
    "# 그래프, 행렬회전하기\n",
    "1. 그래프 회전하기\n",
    "- (1,2),(3,4) 와같은 연속된 폴리라인형식의 그래프를 90도 회전한다고하면\n",
    "- x와 y의 좌표를 바꿔서 회전한다. -> 반시계방향\n",
    "- x와 y 좌표바꾸고 x에 -를 붙힌다 -> 시계방향\n",
    "- 원점이동한다.\n",
    "\n",
    "2. 행렬회전하기\n",
    "- dp테이블을 만들어서 하나하나 넣는다.\n",
    "- 시계방향회전시 첫번째 행은 마지막 열로가고 마지막행은 첫번째열로간다\n"
   ]
  },
  {
   "cell_type": "code",
   "execution_count": null,
   "metadata": {},
   "outputs": [],
   "source": [
    "#그래프회전(시계방향)\n",
    "def rotate(moves):\n",
    "    x, y = moves[-1]\n",
    "    temp = []\n",
    "    for i in range(len(moves)-1, -1, -1):\n",
    "        temp.append([-(moves[i][1]-y), (moves[i][0]-x)])\n",
    "        temp[-1][0] += x\n",
    "        temp[-1][1] += y\n",
    "    moves = moves+temp[1:]\n",
    "    return moves"
   ]
  },
  {
   "cell_type": "code",
   "execution_count": 1,
   "metadata": {},
   "outputs": [
    {
     "name": "stdout",
     "output_type": "stream",
     "text": [
      "[[1, 3, 5], [2, 4, 6]]\n"
     ]
    }
   ],
   "source": [
    "#행렬회전(시계)\n",
    "a = [[1,2],[3,4],[5,6]]\n",
    "temp = [[0]*(len(a)) for i in range(len(a[0]))]\n",
    "\n",
    "for i in range(len(a)):\n",
    "    for j in range(len(a[0])):\n",
    "        temp[j][i] = a[i][j]\n",
    "print(temp)\n",
    "        \n",
    "#행렬회전(반시계)"
   ]
  },
  {
   "cell_type": "markdown",
   "metadata": {},
   "source": [
    "# Product로 행렬에서 요소 뽑기\n",
    "- 행렬에서 중복을 허용하여 원하는 개수의 요소를 뽑는다.\n",
    "- 순서가 다르면 다른거로 판단한다."
   ]
  },
  {
   "cell_type": "code",
   "execution_count": null,
   "metadata": {},
   "outputs": [],
   "source": [
    "from itertools import product\n",
    "product(리스트,repeat = 뽑을 개수)"
   ]
  },
  {
   "cell_type": "markdown",
   "metadata": {},
   "source": [
    "# 작업 문제\n",
    "- 2056- 작업\n",
    "- 선행관계있는 작업들을 수행하는 최소시간\n",
    "- 선행관계가 없는 작업이 동시에 수행가능할 경우\n",
    "- 위상정렬 후 작업최소시간을 구해야함"
   ]
  },
  {
   "cell_type": "code",
   "execution_count": null,
   "metadata": {},
   "outputs": [],
   "source": [
    "#비용에 해당하는 dp 테이블을 만든다\n",
    "\n",
    "def topology_sort(q):\n",
    "    while q:\n",
    "        now = q.popleft()\n",
    "        result.append(now)\n",
    "        for i in graph[now]:\n",
    "            indegree[i] -= 1\n",
    "            #방문할 때마다 전의 노드와 현재노드의 비용 vs cost의 최대값을 저장\n",
    "            costs[i] = max(costs[i], costs[now]+origin_cost[i])\n",
    "            if indegree[i] == 0:\n",
    "                q.append(i)"
   ]
  },
  {
   "cell_type": "markdown",
   "metadata": {},
   "source": [
    "# 슬라이딩 윈도우 심화\n",
    "### 15961 회전초밥\n",
    "- deque의 양끝삽입삭제특징을 이용하여 효율적으로 윈도우 연산\n",
    "- 원형, 순환하는 리스트의 경우 길이를 윈도우의 크기만큼 늘려서 탐색\n",
    "- 윈도우 내의 숫자의 개수를 카운트할 때 그 숫자를 인덱스로\n",
    "    - 0이되면 전체개수 -1\n",
    "    - 1이되면 전체개수 +1\n",
    "    - 이런식으로 포함된 숫자개수 카운트하면 시간 복잡도 대폭향상\n",
    "\n",
    "    \n",
    "\n",
    "- count,result,lis 세개의 변수를 주의깊게 관찰"
   ]
  },
  {
   "cell_type": "code",
   "execution_count": null,
   "metadata": {},
   "outputs": [],
   "source": [
    "def two_pointer(sushi, c):\n",
    "    count = [0]*(d+1)\n",
    "    answer = 0\n",
    "    ###처음 윈도우 초기화하고 수의 개수 중복없이 카운트\n",
    "    for i in sushi[:k]:\n",
    "        count[i] += 1\n",
    "        if count[i] == 1:\n",
    "            answer += 1\n",
    "\n",
    "    count[c] += 1\n",
    "    if count[c] == 1:\n",
    "        answer += 1\n",
    "\n",
    "    reresult = answer\n",
    "    lis = deque(sushi[:k])\n",
    "    for i in range(k, len(sushi)):\n",
    "\n",
    "        lis.append(sushi[i])\n",
    "        count[sushi[i]] += 1\n",
    "        if count[sushi[i]] == 1:\n",
    "            answer += 1\n",
    "        pop_idx = lis.popleft()\n",
    "        count[pop_idx] -= 1\n",
    "        if count[pop_idx] == 0:\n",
    "            answer -= 1\n",
    "        reresult = max(reresult, answer)\n",
    "    return reresult\n"
   ]
  },
  {
   "cell_type": "markdown",
   "metadata": {},
   "source": [
    "# 우선순위 위상정렬\n",
    "### 1766 - 문제집\n",
    "\n",
    "- 순서에 따라 연결된 그래프에서\n",
    "- 가장 작은 값을 꺼내면서 위상정렬가능\n",
    "- 정렬할 수 있는 값중에 가장 작은 값을 꺼낸다!\n",
    "- 못풀었던 많은 문제를 해결할 수 있을 듯!!"
   ]
  },
  {
   "cell_type": "code",
   "execution_count": null,
   "metadata": {},
   "outputs": [],
   "source": [
    "#다음에 꺼낼 수 있는 것들 중에 가장 갚이 낮은 값을 꺼낸다\n",
    "# 정렬하면서 값을 꺼낼 수 있다.!\n",
    "\n",
    "from collections import deque\n",
    "import heapq\n",
    "# 위상정렬?\n",
    "\n",
    "\n",
    "def topology_sort(q):\n",
    "    global result\n",
    "    while q:\n",
    "        now = heapq.heappop(q)\n",
    "        result.append(now)\n",
    "        for i in graph[now]:\n",
    "            indegree[i] -= 1\n",
    "            if indegree[i] == 0:\n",
    "                heapq.heappush(q, i)\n",
    "\n",
    "\n",
    "if __name__ == '__main__':\n",
    "    n, m = map(int, input().split())\n",
    "\n",
    "    graph = [[] for i in range(n+1)]\n",
    "    indegree = [0]*(n+1)\n",
    "    result = []\n",
    "    # 4보다2가 먼저 3보다 1이 먼저인 경우에서 가장 내림차순\n",
    "    for i in range(m):\n",
    "        a, b = map(int, input().split())\n",
    "        graph[a].append(b)\n",
    "        indegree[b] += 1\n",
    "    q = []\n",
    "    for i in range(1, n+1):\n",
    "        if indegree[i] == 0:\n",
    "            heapq.heappush(q, i)\n",
    "\n",
    "    topology_sort(q)\n",
    "    print(' '.join(list(map(str, result))))\n"
   ]
  },
  {
   "cell_type": "markdown",
   "metadata": {},
   "source": [
    "# 특정링크를 필수포함하는 MST만들기\n",
    "### 1774\n",
    "\n",
    "- 크루스칼알고리즘의 심화버젼임\n",
    "- 필수포함해야하는 링크를 UNION해주고 크루스칼 알고리즘을 적용한다."
   ]
  },
  {
   "cell_type": "code",
   "execution_count": null,
   "metadata": {},
   "outputs": [],
   "source": [
    "def find(parant,x):\n",
    "    if parant[x] != x:\n",
    "        parant[x] = find(parant,parant[x])\n",
    "    return parant[x]\n",
    "def union(parant,a,b):\n",
    "    a = find(parant,a)\n",
    "    b = find(parant,b)\n",
    "    if a<b:\n",
    "        parant[b] = a\n",
    "    else:\n",
    "        parant[a] = b\n",
    "\n",
    "if __name__=='__main__':\n",
    "    #필수포함하는\n",
    "    graph =[]\n",
    "    parant = [0]*(n)\n",
    "    #필수적으로 포함해야하는 링크들\n",
    "    for i in range(필수포함개수):\n",
    "        a,b,cost = map(int,input().split())\n",
    "        graph.append((cost,a,b))\n",
    "    for cost,a,b in graph:\n",
    "        union(parant,a,b)\n",
    "\n",
    "    #알고리즘 돌리는 링크들\n",
    "    graph=[]\n",
    "    for i in range(링크개수):\n",
    "        a,b,cost = map(int,input().split())\n",
    "        graph.append((cost,a,b))\n",
    "    #크루스칼알고리즘 적용\n",
    "    graph.sort()\n",
    "    for cost,a,b in graph:\n",
    "        if find(parant,a) != find(parant,b):\n",
    "            union(parant,a,b)"
   ]
  },
  {
   "cell_type": "markdown",
   "metadata": {},
   "source": [
    "# 트리문제해결아이디어\n",
    "### 2250 트리의 높이와 너비\n",
    "\n",
    "- 전위,중위,후위 순회방법을 적용\n",
    "- 최상단 루트노드 찾기 : 부모노드가 없는 노드를 찾는다."
   ]
  },
  {
   "cell_type": "code",
   "execution_count": null,
   "metadata": {},
   "outputs": [],
   "source": [
    "INF = int(1e9)\n",
    "# 중위순회~!\n",
    "# 시작노드가 ㅈ정해지지않음 -> 부모노드가 -1인 노드 찾기\n",
    "\n",
    "#중위순회를 한다.\n",
    "def inorder(tree, root, step):\n",
    "    global cnt, x_coor\n",
    "    if root != -1:\n",
    "        inorder(tree, tree[root][0], step+1)\n",
    "        x_coor[root][0] = cnt\n",
    "        x_coor[root][1] = step\n",
    "        cnt += 1\n",
    "        inorder(tree, tree[root][1], step+1)\n",
    "\n",
    "\n",
    "if __name__ == '__main__':\n",
    "    n = int(input())\n",
    "    cnt = 1\n",
    "    tree = [[-1, -1, -1] for i in range(n+1)]\n",
    "    for i in range(n):\n",
    "        a, b, c = map(int, input().split())\n",
    "        tree[a][0] = b\n",
    "        tree[a][1] = c\n",
    "        if b != -1:\n",
    "            tree[b][2] = a\n",
    "        if c != -1:\n",
    "            tree[c][2] = a\n",
    "    x_coor = [[0, 0] for i in range(n+1)]\n",
    "\n",
    "    # 시작노드찾기 (부모노드가 -1인 것)\n",
    "    for i in range(1, n+1):\n",
    "        if tree[i][2] == -1:\n",
    "            start = i\n",
    "\n",
    "    inorder(tree, start, 1)\n",
    "\n",
    "\n",
    "    #결과 출력하기\n",
    "    x_coor.sort(key=lambda x: x[1])\n",
    "    # print(x_coor[1:])\n",
    "    temp = 0\n",
    "    for i in range(1, len(x_coor)):\n",
    "        temp = max(x_coor[i][1], temp)\n",
    "    levels = [[INF, -INF] for i in range(temp+1)]\n",
    "\n",
    "    for i in range(1, len(x_coor)):\n",
    "        levels[x_coor[i][1]][0] = min(levels[x_coor[i][1]][0], x_coor[i][0])\n",
    "        levels[x_coor[i][1]][1] = max(levels[x_coor[i][1]][1], x_coor[i][0])\n",
    "    answer = 0\n",
    "    answer_level = 0\n",
    "    # print(levels)\n",
    "    for i in range(1, temp+1):\n",
    "        if answer < levels[i][1]-levels[i][0] + 1:\n",
    "            answer = levels[i][1]-levels[i][0] + 1\n",
    "            answer_level = i\n",
    "    print(answer_level, answer)\n"
   ]
  },
  {
   "cell_type": "markdown",
   "metadata": {},
   "source": [
    "# 수 조합으로 만들 수 있는 수 구하기\n",
    "### 2437 - 저울\n",
    "- 숫자들을 조합하여 만들 수 있는 수, 없는 수구하기\n",
    "- 그리디 알고리즘\n",
    "- 1부터 수열의 요소를 하나씩 추가하며 target을 높여감\n",
    "- target보다 수열요소의 크기가 더 크면 그 수는 만들 지 못함"
   ]
  },
  {
   "cell_type": "code",
   "execution_count": null,
   "metadata": {},
   "outputs": [],
   "source": [
    "nums = [1,1,2,3,6,7,30]\n",
    "nums.sort()\n",
    "#1부터 검사하기\n",
    "target = 1\n",
    "for now in nums:\n",
    "    if now >target:\n",
    "        break\n",
    "    target+=now"
   ]
  }
 ],
 "metadata": {
  "interpreter": {
   "hash": "b0fa6594d8f4cbf19f97940f81e996739fb7646882a419484c72d19e05852a7e"
  },
  "kernelspec": {
   "display_name": "Python 3.9.12 64-bit",
   "language": "python",
   "name": "python3"
  },
  "language_info": {
   "codemirror_mode": {
    "name": "ipython",
    "version": 3
   },
   "file_extension": ".py",
   "mimetype": "text/x-python",
   "name": "python",
   "nbconvert_exporter": "python",
   "pygments_lexer": "ipython3",
   "version": "3.9.12"
  },
  "orig_nbformat": 4
 },
 "nbformat": 4,
 "nbformat_minor": 2
}
